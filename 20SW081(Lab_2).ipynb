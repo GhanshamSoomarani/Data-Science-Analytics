{
  "nbformat": 4,
  "nbformat_minor": 0,
  "metadata": {
    "colab": {
      "provenance": [],
      "authorship_tag": "ABX9TyMFb6abIn5OeauIy55ZtbEZ",
      "include_colab_link": true
    },
    "kernelspec": {
      "name": "python3",
      "display_name": "Python 3"
    },
    "language_info": {
      "name": "python"
    }
  },
  "cells": [
    {
      "cell_type": "markdown",
      "metadata": {
        "id": "view-in-github",
        "colab_type": "text"
      },
      "source": [
        "<a href=\"https://colab.research.google.com/github/GhanshamSoomarani/Data-Science-Analytics/blob/main/20SW081(Lab_2).ipynb\" target=\"_parent\"><img src=\"https://colab.research.google.com/assets/colab-badge.svg\" alt=\"Open In Colab\"/></a>"
      ]
    },
    {
      "cell_type": "markdown",
      "source": [
        "Task 1"
      ],
      "metadata": {
        "id": "DdIHeHFVAAst"
      }
    },
    {
      "cell_type": "code",
      "source": [
        "#Task 1\n",
        "points = int(input(\"Enter point you get?\"))\n",
        "prize_name =\"\"\n",
        "if points > 0 and points <= 50:\n",
        "  prize_name = \"wooden rabbit\"\n",
        "elif points >= 51 and points <= 150:\n",
        "  prize_name = \"no prize\"\n",
        "elif points >= 150 and points <= 180:\n",
        "  prize_name = \"water thin mint\"\n",
        "elif points >= 181 and points <= 200:\n",
        "  prize_name = \"penguin\"\n",
        "else:\n",
        "  no_point=\"oh! dear, no prize this time\"\n",
        "print(f\"Congratulation! you won a {prize_name}\")"
      ],
      "metadata": {
        "colab": {
          "base_uri": "https://localhost:8080/"
        },
        "id": "P1MTMtS-s-lk",
        "outputId": "7770b471-12d6-4c95-b306-416f79c8dc5f"
      },
      "execution_count": null,
      "outputs": [
        {
          "output_type": "stream",
          "name": "stdout",
          "text": [
            "Enter point you get?180\n",
            "Congratulation! you won a water thin mint\n"
          ]
        }
      ]
    },
    {
      "cell_type": "markdown",
      "source": [
        "Task 2"
      ],
      "metadata": {
        "id": "S8hH81b1_9Bn"
      }
    },
    {
      "cell_type": "code",
      "source": [
        "#Task 2\n",
        "answer = 81\n",
        "guess = \"\"\n",
        "if answer < 81:\n",
        "  result = \"Oops! Your guess was too low.\"\n",
        "elif answer >81:\n",
        "  result = \"Oops! Your guess was too high.\"\n",
        "elif answer == 81:\n",
        "  result = \"Nice! Your guess matched the answer!\"\n",
        "print(result)"
      ],
      "metadata": {
        "colab": {
          "base_uri": "https://localhost:8080/"
        },
        "id": "hp8pbJUf2lMv",
        "outputId": "486e7c70-0d2f-4a4c-c98b-a8bbd3aad959"
      },
      "execution_count": null,
      "outputs": [
        {
          "output_type": "stream",
          "name": "stdout",
          "text": [
            "Nice! Your guess matched the answer!\n"
          ]
        }
      ]
    },
    {
      "cell_type": "markdown",
      "source": [
        "Task 3"
      ],
      "metadata": {
        "id": "kvHrWh00AS73"
      }
    },
    {
      "cell_type": "code",
      "source": [
        "#Task 3\n",
        "amount = float(input(\"Enter X amount for what you wanna find tax?\"))\n",
        "state =input(\"Enter State you wanna find tax on amount\").upper()\n",
        "tax_amount = 1\n",
        "if state == \"CN\":\n",
        "  tax_amount = (amount*7.5)/100\n",
        "elif state == \"MN\":\n",
        "  tax_amount = (amount*9.5)/100\n",
        "elif state == \"NY\":\n",
        "  tax_amount = (amount*8.9)/100\n",
        "else:\n",
        "  no_state_match=\"You are entering an other state\"\n",
        "print(f\"tax of {state} on your {amount} is {tax_amount}\")"
      ],
      "metadata": {
        "colab": {
          "base_uri": "https://localhost:8080/"
        },
        "id": "aDa4Mbf74GC2",
        "outputId": "5a0fc28f-9b89-4c2d-918a-00249bbd0815"
      },
      "execution_count": null,
      "outputs": [
        {
          "output_type": "stream",
          "name": "stdout",
          "text": [
            "Enter X amount for what you wanna find tax?100\n",
            "Enter State you wanna find tax on amountCN\n",
            "tax of CN on your 100.0 is 7.5\n"
          ]
        }
      ]
    },
    {
      "cell_type": "markdown",
      "source": [
        "Task 4"
      ],
      "metadata": {
        "id": "y57uTr9_AVgL"
      }
    },
    {
      "cell_type": "code",
      "source": [
        "#Task 4\n",
        "sentence = [\"the\", \"quick\", \"brown\", \"fox\", \"jumped\", \"over\", \"the\", \"lazy\", \"dog\"]\n",
        "for i in sentence:\n",
        "  print(i)"
      ],
      "metadata": {
        "colab": {
          "base_uri": "https://localhost:8080/"
        },
        "id": "heSkank883n0",
        "outputId": "9a68f657-f110-4fad-a479-9d7a6d212585"
      },
      "execution_count": null,
      "outputs": [
        {
          "output_type": "stream",
          "name": "stdout",
          "text": [
            "the\n",
            "quick\n",
            "brown\n",
            "fox\n",
            "jumped\n",
            "over\n",
            "the\n",
            "lazy\n",
            "dog\n"
          ]
        }
      ]
    },
    {
      "cell_type": "markdown",
      "source": [
        "Task 5"
      ],
      "metadata": {
        "id": "dXi4sHNBAXzW"
      }
    },
    {
      "cell_type": "code",
      "source": [
        "#Task 5\n",
        "for i in range(1,31):\n",
        "  if i%5==0:\n",
        "    print(i)\n"
      ],
      "metadata": {
        "colab": {
          "base_uri": "https://localhost:8080/"
        },
        "id": "P4pYVIwr9L7S",
        "outputId": "e9f170a1-3240-47cb-801d-5e7d6ec2011f"
      },
      "execution_count": null,
      "outputs": [
        {
          "output_type": "stream",
          "name": "stdout",
          "text": [
            "5\n",
            "10\n",
            "15\n",
            "20\n",
            "25\n",
            "30\n"
          ]
        }
      ]
    },
    {
      "cell_type": "markdown",
      "source": [
        "Task 6"
      ],
      "metadata": {
        "id": "989dXc5iAado"
      }
    },
    {
      "cell_type": "code",
      "source": [
        "#Task 6\n",
        "names = [\"Rick Sanchez\", \"Morty Smith\", \"Summer Smith\", \"Jerry Smith\", \"Beth Smith\"]\n",
        "first_names =  [name.split()[0].lower() for name in names]\n",
        "print(first_names)"
      ],
      "metadata": {
        "colab": {
          "base_uri": "https://localhost:8080/"
        },
        "id": "m4dg6qTn-LgW",
        "outputId": "313e8b1f-a12a-4beb-dddb-0cc2f60b1bd3"
      },
      "execution_count": null,
      "outputs": [
        {
          "output_type": "stream",
          "name": "stdout",
          "text": [
            "['rick', 'morty', 'summer', 'jerry', 'beth']\n"
          ]
        }
      ]
    },
    {
      "cell_type": "markdown",
      "source": [
        "Task 7"
      ],
      "metadata": {
        "id": "o6xFi79ZAb5P"
      }
    },
    {
      "cell_type": "code",
      "source": [
        "#Task 7\n",
        "three = [i*3 for i in range(1,21) ]\n",
        "print(three)\n"
      ],
      "metadata": {
        "colab": {
          "base_uri": "https://localhost:8080/"
        },
        "id": "yUXiXEbfsQ_N",
        "outputId": "9f150da1-bc53-4c54-b057-5e3a8af5c2df"
      },
      "execution_count": null,
      "outputs": [
        {
          "output_type": "stream",
          "name": "stdout",
          "text": [
            "[3, 6, 9, 12, 15, 18, 21, 24, 27, 30, 33, 36, 39, 42, 45, 48, 51, 54, 57, 60]\n"
          ]
        }
      ]
    },
    {
      "cell_type": "markdown",
      "source": [
        "Task 8"
      ],
      "metadata": {
        "id": "NRCzoplx5ngB"
      }
    },
    {
      "cell_type": "code",
      "execution_count": null,
      "metadata": {
        "colab": {
          "base_uri": "https://localhost:8080/"
        },
        "id": "Pvmp4FY1mYIC",
        "outputId": "4e72e1b0-8b74-4c35-bab9-a02a2619587c"
      },
      "outputs": [
        {
          "output_type": "stream",
          "name": "stdout",
          "text": [
            "['Rick Sanchez', 'Summer Smith', 'Beth Smith']\n"
          ]
        }
      ],
      "source": [
        "#Task 8\n",
        "scores = {\n",
        "\"Rick Sanchez\": 70,\n",
        "\"Morty Smith\": 35,\n",
        "\"Summer Smith\": 82,\n",
        "\"Jerry Smith\": 23,\n",
        "\"Beth Smith\": 98\n",
        "}\n",
        "passed =  [name for name, score in scores.items() if score >= 65]\n",
        "print(passed)"
      ]
    },
    {
      "cell_type": "markdown",
      "source": [
        "Task 9"
      ],
      "metadata": {
        "id": "XNGtg5j69qSQ"
      }
    },
    {
      "cell_type": "code",
      "source": [
        "#Task 9\n",
        "cast_names = [\"Barney\", \"Robin\", \"Ted\", \"Lily\", \"Marshall\"]\n",
        "cast_heights = [72, 68, 72, 66, 76]\n",
        "cast = dict(zip(cast_names, cast_heights))\n",
        "print(cast)"
      ],
      "metadata": {
        "colab": {
          "base_uri": "https://localhost:8080/"
        },
        "id": "mOpelOrc9mVP",
        "outputId": "bd3a0e13-60c7-40e6-b302-c2e20a456b85"
      },
      "execution_count": null,
      "outputs": [
        {
          "output_type": "stream",
          "name": "stdout",
          "text": [
            "{'Barney': 72, 'Robin': 68, 'Ted': 72, 'Lily': 66, 'Marshall': 76}\n"
          ]
        }
      ]
    },
    {
      "cell_type": "markdown",
      "source": [
        "Task 10"
      ],
      "metadata": {
        "id": "a5lDgS68-IX4"
      }
    },
    {
      "cell_type": "code",
      "source": [
        "cast = [\"Barney Stinson\", \"Robin Scherbatsky\", \"Ted Mosby\", \"Lily Aldrin\", \"Marshall Eriksen\"]\n",
        "heights = [72, 68, 72, 66, 76]\n",
        "for i, name in enumerate(cast):\n",
        "    cast[i] = f\"{name} {heights[i]}\"\n",
        "print(cast)"
      ],
      "metadata": {
        "colab": {
          "base_uri": "https://localhost:8080/"
        },
        "id": "ByU0EiAt-HmY",
        "outputId": "2b8fcb0f-e167-40fb-ec83-fd9f58d119d4"
      },
      "execution_count": null,
      "outputs": [
        {
          "output_type": "stream",
          "name": "stdout",
          "text": [
            "['Barney Stinson 72', 'Robin Scherbatsky 68', 'Ted Mosby 72', 'Lily Aldrin 66', 'Marshall Eriksen 76']\n"
          ]
        }
      ]
    }
  ]
}