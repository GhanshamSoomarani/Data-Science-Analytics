{
  "nbformat": 4,
  "nbformat_minor": 0,
  "metadata": {
    "colab": {
      "provenance": [],
      "toc_visible": true,
      "authorship_tag": "ABX9TyOHZ0dYemZgHoOtPa5Rdmvm",
      "include_colab_link": true
    },
    "kernelspec": {
      "name": "python3",
      "display_name": "Python 3"
    },
    "language_info": {
      "name": "python"
    }
  },
  "cells": [
    {
      "cell_type": "markdown",
      "metadata": {
        "id": "view-in-github",
        "colab_type": "text"
      },
      "source": [
        "<a href=\"https://colab.research.google.com/github/GhanshamSoomarani/Data-Science-Analytics/blob/main/20sw081(Lab_05).ipynb\" target=\"_parent\"><img src=\"https://colab.research.google.com/assets/colab-badge.svg\" alt=\"Open In Colab\"/></a>"
      ]
    },
    {
      "cell_type": "markdown",
      "source": [
        "\n",
        "Task 1"
      ],
      "metadata": {
        "id": "6KW8TyP-7q2w"
      }
    },
    {
      "cell_type": "code",
      "execution_count": null,
      "metadata": {
        "colab": {
          "base_uri": "https://localhost:8080/"
        },
        "id": "AMfZkGEU7mOt",
        "outputId": "ed89f61d-feea-4de6-81c5-d234ec24ab8d"
      },
      "outputs": [
        {
          "output_type": "stream",
          "name": "stdout",
          "text": [
            "Distance from Sun (10^6 km):\n",
            " Earth       149.6\n",
            "Saturn     1433.5\n",
            "Mars        227.9\n",
            "Venus       108.2\n",
            "Jupiter     778.6\n",
            "dtype: float64\n",
            "\n",
            "Time for sunlight to reach each planet (minutes):\n",
            " Earth       8.311111\n",
            "Saturn     79.638889\n",
            "Mars       12.661111\n",
            "Venus       6.011111\n",
            "Jupiter    43.255556\n",
            "dtype: float64\n",
            "\n",
            "Planets where sunlight takes less than 40 minutes to reach:\n",
            " Earth    149.6\n",
            "Mars     227.9\n",
            "Venus    108.2\n",
            "dtype: float64\n"
          ]
        }
      ],
      "source": [
        "import pandas as pd\n",
        "\n",
        "# Create a Pandas Series that contains the distance of some planets from the Sun.\n",
        "# Use the name of the planets as the index and the distance from the Sun as data.\n",
        "distance_from_sun = [149.6, 1433.5, 227.9, 108.2, 778.6]\n",
        "planets = ['Earth', 'Saturn', 'Mars', 'Venus', 'Jupiter']\n",
        "dist_planets = pd.Series(distance_from_sun, index=planets)\n",
        "\n",
        "# Calculate the number of minutes it takes sunlight to reach each planet.\n",
        "speed_of_light = 18  # Speed of light in 10^6 km/minute\n",
        "time_light = dist_planets / speed_of_light\n",
        "\n",
        "# Use Boolean indexing to select only those planets for which sunlight takes less than 40 minutes to reach them.\n",
        "close_planets = dist_planets[time_light < 40]\n",
        "\n",
        "print(\"Distance from Sun (10^6 km):\\n\", dist_planets)\n",
        "print(\"\\nTime for sunlight to reach each planet (minutes):\\n\", time_light)\n",
        "print(\"\\nPlanets where sunlight takes less than 40 minutes to reach:\\n\", close_planets)\n"
      ]
    },
    {
      "cell_type": "markdown",
      "source": [
        "Task 2"
      ],
      "metadata": {
        "id": "TyyXo39k9nib"
      }
    },
    {
      "cell_type": "code",
      "source": [
        "#Task 2\n",
        "import pandas as pd\n",
        "import numpy as np\n",
        "\n",
        "# Set the display precision for floating-point numbers\n",
        "pd.set_option('display.precision', 1)\n",
        "\n",
        "# Create a Pandas DataFrame that contains the ratings some users have given to a series of books.\n",
        "books = pd.Series(data=['Great Expectations', 'Of Mice and Men', 'Romeo and Juliet', 'The Time Machine', 'Alice in Wonderland'])\n",
        "authors = pd.Series(data=['Charles Dickens', 'John Steinbeck', 'William Shakespeare', 'H. G. Wells', 'Lewis Carroll'])\n",
        "user_1 = pd.Series(data=[3.2, np.nan, 2.5])\n",
        "user_2 = pd.Series(data=[5.0, 1.3, 4.0, 3.8])\n",
        "user_3 = pd.Series(data=[2.0, 2.3, np.nan, 4.0])\n",
        "user_4 = pd.Series(data=[4.0, 3.5, 4.0, 5.0, 4.2])\n",
        "\n",
        "# Create a dictionary with the data given above\n",
        "dat = {\n",
        "    'Book Title': books,\n",
        "    'Author': authors,\n",
        "    'User 1': user_1,\n",
        "    'User 2': user_2,\n",
        "    'User 3': user_3,\n",
        "    'User 4': user_4\n",
        "}\n",
        "\n",
        "# Use the dictionary to create a Pandas DataFrame\n",
        "book_ratings = pd.DataFrame(dat)\n",
        "\n",
        "# Calculate the mean ratings for each column (excluding NaN values)\n",
        "average_ratings = book_ratings.mean()\n",
        "\n",
        "# Replace NaN values with the average ratings in each column\n",
        "book_ratings.fillna(average_ratings, inplace=True)\n",
        "\n",
        "# Print the updated DataFrame\n",
        "print(book_ratings)"
      ],
      "metadata": {
        "colab": {
          "base_uri": "https://localhost:8080/"
        },
        "id": "0zVgFaig8DRh",
        "outputId": "522783f2-5df1-4a4b-a96d-aa7e612915fa"
      },
      "execution_count": 1,
      "outputs": [
        {
          "output_type": "stream",
          "name": "stdout",
          "text": [
            "            Book Title               Author  User 1  User 2  User 3  User 4\n",
            "0   Great Expectations      Charles Dickens     3.2     5.0     2.0     4.0\n",
            "1      Of Mice and Men       John Steinbeck     2.9     1.3     2.3     3.5\n",
            "2     Romeo and Juliet  William Shakespeare     2.5     4.0     2.8     4.0\n",
            "3     The Time Machine          H. G. Wells     2.9     3.8     4.0     5.0\n",
            "4  Alice in Wonderland        Lewis Carroll     2.9     3.5     2.8     4.2\n"
          ]
        },
        {
          "output_type": "stream",
          "name": "stderr",
          "text": [
            "<ipython-input-1-9d3510ffea93>:30: FutureWarning: The default value of numeric_only in DataFrame.mean is deprecated. In a future version, it will default to False. In addition, specifying 'numeric_only=None' is deprecated. Select only valid columns or specify the value of numeric_only to silence this warning.\n",
            "  average_ratings = book_ratings.mean()\n"
          ]
        }
      ]
    },
    {
      "cell_type": "code",
      "source": [],
      "metadata": {
        "id": "PPp453aE-zA2"
      },
      "execution_count": null,
      "outputs": []
    },
    {
      "cell_type": "markdown",
      "source": [],
      "metadata": {
        "id": "u1ok8WoB7png"
      }
    }
  ]
}