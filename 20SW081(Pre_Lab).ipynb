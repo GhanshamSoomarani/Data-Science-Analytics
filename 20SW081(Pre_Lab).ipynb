{
  "nbformat": 4,
  "nbformat_minor": 0,
  "metadata": {
    "colab": {
      "provenance": [],
      "authorship_tag": "ABX9TyMrBQ6s7a6uwfu+/M2Ak/t6",
      "include_colab_link": true
    },
    "kernelspec": {
      "name": "python3",
      "display_name": "Python 3"
    },
    "language_info": {
      "name": "python"
    }
  },
  "cells": [
    {
      "cell_type": "markdown",
      "metadata": {
        "id": "view-in-github",
        "colab_type": "text"
      },
      "source": [
        "<a href=\"https://colab.research.google.com/github/GhanshamSoomarani/Data-Science-Analytics/blob/main/20SW081(Pre_Lab).ipynb\" target=\"_parent\"><img src=\"https://colab.research.google.com/assets/colab-badge.svg\" alt=\"Open In Colab\"/></a>"
      ]
    },
    {
      "cell_type": "code",
      "execution_count": null,
      "metadata": {
        "colab": {
          "base_uri": "https://localhost:8080/"
        },
        "id": "k30cnfjeglGR",
        "outputId": "0d8e01cf-4e0d-4050-b8da-fa8d5b4cd82c"
      },
      "outputs": [
        {
          "output_type": "stream",
          "name": "stdout",
          "text": [
            "Hello world\n",
            "Hello world\n"
          ]
        }
      ],
      "source": [
        "#Name: Ghansham Soomarani\n",
        "#Roll No.: 20SW081\n",
        "#Section: 1\n",
        "print('Hello world');\n",
        "print(\"Hello world\");"
      ]
    },
    {
      "cell_type": "code",
      "source": [
        "#Base Types\n",
        "x=1;\n",
        "print(type(x));\n",
        "print(x)\n",
        "y=5.6\n",
        "print(type(y))\n",
        "print(y)\n",
        "z=False;\n",
        "print(type(z))\n",
        "print(z)\n",
        "a=\"\"\"Ghansham\\tSoomarani\"\"\";\n",
        "print(type(a))\n",
        "print(a)"
      ],
      "metadata": {
        "colab": {
          "base_uri": "https://localhost:8080/"
        },
        "id": "10E90QVGoIVs",
        "outputId": "05a9c04d-c3e6-4e3f-f47b-d62f782174fa"
      },
      "execution_count": null,
      "outputs": [
        {
          "output_type": "stream",
          "name": "stdout",
          "text": [
            "<class 'int'>\n",
            "1\n",
            "<class 'float'>\n",
            "5.6\n",
            "<class 'bool'>\n",
            "False\n",
            "<class 'str'>\n",
            "Ghansham\tSoomarani\n"
          ]
        }
      ]
    },
    {
      "cell_type": "code",
      "source": [
        "#Container Types\n",
        "\n",
        "mylist = [\"apple\", 5, 2.5, \"Hi\", False,\"Ghansham\"]\n",
        "#traversing whole list\n",
        "for f in mylist:\n",
        "  print(f)\n",
        "print(\"length of mylist is \",len(mylist))\n",
        "\n",
        "myTuple = (\"apple\", \"banana\", \"monkey\",\"cat\")\n",
        "print(\"lenght of myTuple is \",len(myTuple)) #finding length\n",
        "print(myTuple)\n",
        "\n",
        "this_set = {\"apple\", 5, 2.5, \"Hi\", False,\"Ghansham\", \"cherry\", True, 1, 2}\n",
        "\n",
        "print(this_set)\n",
        "print(len(this_set))\n",
        "print(\"length of this set is \",len(this_set))\n",
        "\n",
        "mydict = {\n",
        "  \"brand\": \"GLS\",\n",
        "  \"model\": \"m3\",\n",
        "  \"year\": 1979\n",
        "}\n",
        "\n",
        "print(mydict[\"brand\"])\n",
        "print(mydict[\"year\"])\n"
      ],
      "metadata": {
        "colab": {
          "base_uri": "https://localhost:8080/"
        },
        "id": "PW2keggxqJFo",
        "outputId": "571e0c22-f6bd-47af-fc96-241620ab0357"
      },
      "execution_count": null,
      "outputs": [
        {
          "output_type": "stream",
          "name": "stdout",
          "text": [
            "apple\n",
            "5\n",
            "2.5\n",
            "Hi\n",
            "False\n",
            "Ghansham\n",
            "length of mylist is  6\n",
            "lenght of myTuple is  4\n",
            "('apple', 'banana', 'monkey', 'cat')\n",
            "{False, 'Ghansham', 2.5, 'Hi', True, 5, 2, 'apple', 'cherry'}\n",
            "9\n",
            "length of this set is  9\n",
            "GLS\n",
            "1979\n"
          ]
        }
      ]
    },
    {
      "cell_type": "code",
      "source": [
        "#Variable assignment\n",
        "b=2+5;\n",
        "print(b)\n",
        "print(type(b))\n",
        "c=2.5+5.5;\n",
        "print(c)\n",
        "print(type(c))\n",
        "d=c\n",
        "print(d)\n",
        "e,f,g=7,c,b\n",
        "print(e)\n",
        "print(f)\n",
        "print(g)\n",
        "g+=3\n",
        "print(g)\n",
        "g-=3\n",
        "print(g)"
      ],
      "metadata": {
        "colab": {
          "base_uri": "https://localhost:8080/"
        },
        "id": "459iPPQ1qz2a",
        "outputId": "b4619e64-9bda-4919-c892-ae8917e7aa64"
      },
      "execution_count": null,
      "outputs": [
        {
          "output_type": "stream",
          "name": "stdout",
          "text": [
            "7\n",
            "<class 'int'>\n",
            "8.0\n",
            "<class 'float'>\n",
            "8.0\n",
            "7\n",
            "8.0\n",
            "7\n",
            "10\n",
            "7\n"
          ]
        }
      ]
    },
    {
      "cell_type": "code",
      "source": [
        "#Conversion\n",
        "a=5.2\n",
        "b=7\n",
        "c=False\n",
        "print(type(a))\n",
        "print(type(b))\n",
        "print(type(c))\n",
        "print(int(a))\n",
        "print(float)\n",
        "print(int(c))\n",
        "\n",
        "d={\"abc\"}\n",
        "print(type(d))\n",
        "print(list(d))"
      ],
      "metadata": {
        "colab": {
          "base_uri": "https://localhost:8080/"
        },
        "id": "AGAsGDcJrDRU",
        "outputId": "33931c10-0f0b-41a5-ac95-ad8b5d51a558"
      },
      "execution_count": null,
      "outputs": [
        {
          "output_type": "stream",
          "name": "stdout",
          "text": [
            "<class 'float'>\n",
            "<class 'int'>\n",
            "<class 'bool'>\n",
            "5\n",
            "<class 'float'>\n",
            "0\n",
            "<class 'set'>\n",
            "['abc']\n"
          ]
        }
      ]
    },
    {
      "cell_type": "code",
      "source": [
        "#Condition statement, statement blocks & boolean logic\n",
        "def NumberCheck(a):\n",
        "    # Checking if the number is positive\n",
        "    if a > 0:\n",
        "        print(\"Number given by you is Positive\")\n",
        "        if (a % 2) == 0:\n",
        "          print(\"{0} is Even number\".format(a))\n",
        "        else:\n",
        "          print(\"{0} is Odd number\".format(a))\n",
        "    # Checking if the number is negative\n",
        "    elif a < 0:\n",
        "        print(\"Number given by you is Negative\")\n",
        "    # Else the number is zero\n",
        "    else:\n",
        "        print(\"Number given by you is zero\")\n",
        "# Taking number from user\n",
        "a = float(input(\"Enter a number as input value: \"))\n",
        "NumberCheck(a)"
      ],
      "metadata": {
        "colab": {
          "base_uri": "https://localhost:8080/"
        },
        "id": "vkh7Si0cwyJ3",
        "outputId": "042b292d-8bf1-422e-96c6-b607cc2b82af"
      },
      "execution_count": null,
      "outputs": [
        {
          "output_type": "stream",
          "name": "stdout",
          "text": [
            "Enter a number as input value: 88\n",
            "Number given by you is Positive\n",
            "88.0 is Even number\n"
          ]
        }
      ]
    },
    {
      "cell_type": "code",
      "source": [
        "#Conditional & loop\n",
        "a = ['foo', 'bar', 'baz']\n",
        "while a:\n",
        "    print(a.pop(-1))"
      ],
      "metadata": {
        "colab": {
          "base_uri": "https://localhost:8080/"
        },
        "id": "kV95s-mm03Vh",
        "outputId": "9f9eec77-92b9-4869-c87a-1b6891eeedd3"
      },
      "execution_count": null,
      "outputs": [
        {
          "output_type": "stream",
          "name": "stdout",
          "text": [
            "baz\n",
            "bar\n",
            "foo\n"
          ]
        }
      ]
    }
  ]
}