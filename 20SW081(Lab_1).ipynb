{
  "nbformat": 4,
  "nbformat_minor": 0,
  "metadata": {
    "colab": {
      "provenance": [],
      "authorship_tag": "ABX9TyMxvwb90dkKJBPZsoobPibc",
      "include_colab_link": true
    },
    "kernelspec": {
      "name": "python3",
      "display_name": "Python 3"
    },
    "language_info": {
      "name": "python"
    }
  },
  "cells": [
    {
      "cell_type": "markdown",
      "metadata": {
        "id": "view-in-github",
        "colab_type": "text"
      },
      "source": [
        "<a href=\"https://colab.research.google.com/github/GhanshamSoomarani/Data-Science-Analytics/blob/main/20SW081(Lab_1).ipynb\" target=\"_parent\"><img src=\"https://colab.research.google.com/assets/colab-badge.svg\" alt=\"Open In Colab\"/></a>"
      ]
    },
    {
      "cell_type": "markdown",
      "source": [
        "Task 1"
      ],
      "metadata": {
        "id": "JyifrwfoBg54"
      }
    },
    {
      "cell_type": "code",
      "execution_count": null,
      "metadata": {
        "colab": {
          "base_uri": "https://localhost:8080/"
        },
        "id": "gtewlAH6gpAG",
        "outputId": "3e56508a-40f6-4f57-d627-1974b597c3ce"
      },
      "outputs": [
        {
          "output_type": "stream",
          "name": "stdout",
          "text": [
            "Ghansham is brave and strong\n"
          ]
        }
      ],
      "source": [
        "#Task 1\n",
        "\n",
        "# Write two lines of code below, each assigning a value to a variable\n",
        "# Now write a print statement using .format() to print out a sentence and the\n",
        "# values of both of the variables\n",
        "message= \"Ghansham is {} and {}\";\n",
        "print(message.format(\"brave\", \"strong\"))"
      ]
    },
    {
      "cell_type": "markdown",
      "source": [
        "Task 2"
      ],
      "metadata": {
        "id": "YhBuieMXBj8z"
      }
    },
    {
      "cell_type": "code",
      "source": [
        "#Task 2\n",
        "\n",
        "str = \"Ghansham\"\n",
        "print(str.capitalize())\n",
        "print(str.casefold())\n",
        "print(str.count(\"s\", 0, len(str)))\n",
        "\n"
      ],
      "metadata": {
        "colab": {
          "base_uri": "https://localhost:8080/"
        },
        "id": "5FqciEWVyxt0",
        "outputId": "9efad450-dec5-4070-f6f2-ba278a478338"
      },
      "execution_count": null,
      "outputs": [
        {
          "output_type": "stream",
          "name": "stdout",
          "text": [
            "Ghansham\n",
            "ghansham\n",
            "1\n"
          ]
        }
      ]
    },
    {
      "cell_type": "markdown",
      "source": [
        "Task 3"
      ],
      "metadata": {
        "id": "ww8yaEynBmDh"
      }
    },
    {
      "cell_type": "code",
      "source": [
        "#Task 3\n",
        "\n",
        "month = 8\n",
        "days_in_month = [31,28,31,30,31,30,31,31,30,31,30,31]\n",
        "# use list indexing to determine the number of days in month\n",
        "num_days = days_in_month[month - 1]\n",
        "print(\"month\", month ,\"contains\", num_days , \"days\")\n"
      ],
      "metadata": {
        "colab": {
          "base_uri": "https://localhost:8080/"
        },
        "id": "CrP_D53uq_G4",
        "outputId": "9388ec4b-9103-4459-c0ab-7fc0f32e0dba"
      },
      "execution_count": null,
      "outputs": [
        {
          "output_type": "stream",
          "name": "stdout",
          "text": [
            "month 8 contains 31 days\n"
          ]
        }
      ]
    },
    {
      "cell_type": "markdown",
      "source": [
        "Task 4"
      ],
      "metadata": {
        "id": "vZh3re9LBoH7"
      }
    },
    {
      "cell_type": "code",
      "source": [
        "#Task 4\n",
        "\n",
        "eclipse_dates = ['June 21, 2001', 'December 4, 2002', 'November 23, 2003', 'March 29, 2006', 'August 1, 2008', 'July 22, 2009', 'July 11, 2010', 'November 13, 2012', 'March 20, 2015', 'March 9, 2016']\n",
        "\n",
        "# TODO: Modify this line so it prints the last three elements of the list\n",
        "recent_dates = eclipse_dates[-3:]\n",
        "\n",
        "print(recent_dates)\n"
      ],
      "metadata": {
        "colab": {
          "base_uri": "https://localhost:8080/"
        },
        "id": "l3BOF1RYvbdB",
        "outputId": "2a51db57-3865-4e61-ca9b-930f997fab9f"
      },
      "execution_count": null,
      "outputs": [
        {
          "output_type": "stream",
          "name": "stdout",
          "text": [
            "['November 13, 2012', 'March 20, 2015', 'March 9, 2016']\n"
          ]
        }
      ]
    },
    {
      "cell_type": "markdown",
      "source": [
        "Task 5"
      ],
      "metadata": {
        "id": "19mZhBtrBqIc"
      }
    },
    {
      "cell_type": "code",
      "source": [
        "#Task 5\n",
        "\n",
        "students = {\n",
        "    \"Ghansham\": {\n",
        "        \"age\": 21,\n",
        "        \"semester\": \"6th\",\n",
        "        \"subjects\": [\"DS&A\", \"DS\", \"MAD\"],\n",
        "        \"address\": {\n",
        "            \"street\": \"1 Main St\",\n",
        "            \"city\": \"Mithi\",\n",
        "            \"state\": \"Sindh\",\n",
        "            \"zip\": \"69230\"\n",
        "        }\n",
        "    },\n",
        "    \"Aashir\": {\n",
        "        \"age\": 21,\n",
        "        \"semester\": \"5th\",\n",
        "        \"subjects\": [\"DWH\", \"IS\", \"CPS\"],\n",
        "        \"address\": {\n",
        "            \"street\": \"4 B St\",\n",
        "            \"city\": \"Nangarparkar\",\n",
        "            \"state\": \"Thar\",\n",
        "            \"zip\": \"852963\"\n",
        "        }\n",
        "    },\n",
        "    # Add more students as needed\n",
        "}\n",
        "students[\"Ghansham\"][\"semester\"],\n",
        "print(\"ghansham\")\n",
        "print(students)"
      ],
      "metadata": {
        "colab": {
          "base_uri": "https://localhost:8080/"
        },
        "id": "RAt5rtZUwLGW",
        "outputId": "548d6ecd-1cfa-4d7d-af1c-9860c769261b"
      },
      "execution_count": null,
      "outputs": [
        {
          "output_type": "stream",
          "name": "stdout",
          "text": [
            "ghansham\n",
            "{'Ghansham': {'age': 21, 'semester': '6th', 'subjects': ['DS&A', 'DS', 'MAD'], 'address': {'street': '1 Main St', 'city': 'Mithi', 'state': 'Sindh', 'zip': '69230'}}, 'Aashir': {'age': 21, 'semester': '5th', 'subjects': ['DWH', 'IS', 'CPS'], 'address': {'street': '4 B St', 'city': 'Nangarparkar', 'state': 'Thar', 'zip': '852963'}}}\n"
          ]
        }
      ]
    }
  ]
}